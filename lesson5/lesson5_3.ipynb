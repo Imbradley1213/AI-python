{
 "cells": [
  {
   "cell_type": "code",
   "execution_count": 80,
   "metadata": {},
   "outputs": [
    {
     "name": "stdout",
     "output_type": "stream",
     "text": [
      "total=55\n",
      "應用程式結束\n"
     ]
    }
   ],
   "source": [
    "total=0\n",
    "i=1\n",
    "while i<=10:\n",
    "    total += i\n",
    "    i += 1\n",
    "print(f'total={total}\\n應用程式結束')"
   ]
  },
  {
   "cell_type": "code",
   "execution_count": 38,
   "metadata": {},
   "outputs": [
    {
     "name": "stdout",
     "output_type": "stream",
     "text": [
      "10和8的公因數是:\n",
      "1\n",
      "2\n"
     ]
    }
   ],
   "source": [
    "value1=int(input('輸入第一個數值:'))\n",
    "value2=int(input('輸入第二個數值:'))\n",
    "(max,min)=(value1,value2) if value1>value2 else (value2,value1)\n",
    "print(f'10和8的公因數是:')\n",
    "for i in range(1,min+1):\n",
    "    if max%i==0 and min%i==0:\n",
    "        print(i,end='\\n')\n",
    "    "
   ]
  },
  {
   "cell_type": "code",
   "execution_count": 44,
   "metadata": {},
   "outputs": [
    {
     "name": "stdout",
     "output_type": "stream",
     "text": [
      "10和8的公因數是:1,2"
     ]
    }
   ],
   "source": [
    "value1=int(input('輸入第一個數值:'))\n",
    "value2=int(input('輸入第二個數值:'))\n",
    "i=value2 if (value1>value2) else value1\n",
    "print('10和8的公因數是:',end='')\n",
    "for j in range(1,i+1):\n",
    "    if(value1%j==0)and(value2%j==0):\n",
    "        if(j==1):\n",
    "            print(j,end='')\n",
    "        else:\n",
    "            print(f',{j}',end='')"
   ]
  }
 ],
 "metadata": {
  "kernelspec": {
   "display_name": "Python 3",
   "language": "python",
   "name": "python3"
  },
  "language_info": {
   "codemirror_mode": {
    "name": "ipython",
    "version": 3
   },
   "file_extension": ".py",
   "mimetype": "text/x-python",
   "name": "python",
   "nbconvert_exporter": "python",
   "pygments_lexer": "ipython3",
   "version": "3.11.9"
  }
 },
 "nbformat": 4,
 "nbformat_minor": 2
}
