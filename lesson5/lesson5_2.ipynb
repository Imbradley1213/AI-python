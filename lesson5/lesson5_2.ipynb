{
 "cells": [
  {
   "cell_type": "code",
   "execution_count": 1,
   "metadata": {},
   "outputs": [
    {
     "name": "stdout",
     "output_type": "stream",
     "text": [
      "55\n"
     ]
    }
   ],
   "source": [
    "sum=0\n",
    "sum+=1\n",
    "sum+=2\n",
    "sum+=3\n",
    "sum+=4\n",
    "sum+=5\n",
    "sum+=6\n",
    "sum+=7\n",
    "sum+=8\n",
    "sum+=9\n",
    "sum+=10\n",
    "print(sum)"
   ]
  },
  {
   "cell_type": "code",
   "execution_count": 2,
   "metadata": {},
   "outputs": [
    {
     "name": "stdout",
     "output_type": "stream",
     "text": [
      "5050\n"
     ]
    }
   ],
   "source": [
    "sum=0\n",
    "for i in range(1,101):\n",
    "    sum+=i\n",
    "print(sum)"
   ]
  },
  {
   "cell_type": "code",
   "execution_count": 3,
   "metadata": {},
   "outputs": [
    {
     "name": "stdout",
     "output_type": "stream",
     "text": [
      "1\n",
      "2\n",
      "4\n",
      "8\n"
     ]
    }
   ],
   "source": [
    "value=int(input('請輸入數值:'))\n",
    "for i in range(1,value+1):\n",
    "    if value%i==0:\n",
    "        print(i)"
   ]
  },
  {
   "cell_type": "code",
   "execution_count": 27,
   "metadata": {},
   "outputs": [
    {
     "name": "stdout",
     "output_type": "stream",
     "text": [
      "1 * 1 = 1 * 1\t1 * 2 = 1 * 2\t1 * 3 = 1 * 3\t1 * 4 = 1 * 4\t1 * 5 = 1 * 5\t1 * 6 = 1 * 6\t1 * 7 = 1 * 7\t1 * 8 = 1 * 8\t1 * 9 = 1 * 9\t\n",
      "2 * 1 = 2 * 1\t2 * 2 = 2 * 2\t2 * 3 = 2 * 3\t2 * 4 = 2 * 4\t2 * 5 = 2 * 5\t2 * 6 = 2 * 6\t2 * 7 = 2 * 7\t2 * 8 = 2 * 8\t2 * 9 = 2 * 9\t\n",
      "3 * 1 = 3 * 1\t3 * 2 = 3 * 2\t3 * 3 = 3 * 3\t3 * 4 = 3 * 4\t3 * 5 = 3 * 5\t3 * 6 = 3 * 6\t3 * 7 = 3 * 7\t3 * 8 = 3 * 8\t3 * 9 = 3 * 9\t\n",
      "4 * 1 = 4 * 1\t4 * 2 = 4 * 2\t4 * 3 = 4 * 3\t4 * 4 = 4 * 4\t4 * 5 = 4 * 5\t4 * 6 = 4 * 6\t4 * 7 = 4 * 7\t4 * 8 = 4 * 8\t4 * 9 = 4 * 9\t\n",
      "5 * 1 = 5 * 1\t5 * 2 = 5 * 2\t5 * 3 = 5 * 3\t5 * 4 = 5 * 4\t5 * 5 = 5 * 5\t5 * 6 = 5 * 6\t5 * 7 = 5 * 7\t5 * 8 = 5 * 8\t5 * 9 = 5 * 9\t\n",
      "6 * 1 = 6 * 1\t6 * 2 = 6 * 2\t6 * 3 = 6 * 3\t6 * 4 = 6 * 4\t6 * 5 = 6 * 5\t6 * 6 = 6 * 6\t6 * 7 = 6 * 7\t6 * 8 = 6 * 8\t6 * 9 = 6 * 9\t\n",
      "7 * 1 = 7 * 1\t7 * 2 = 7 * 2\t7 * 3 = 7 * 3\t7 * 4 = 7 * 4\t7 * 5 = 7 * 5\t7 * 6 = 7 * 6\t7 * 7 = 7 * 7\t7 * 8 = 7 * 8\t7 * 9 = 7 * 9\t\n",
      "8 * 1 = 8 * 1\t8 * 2 = 8 * 2\t8 * 3 = 8 * 3\t8 * 4 = 8 * 4\t8 * 5 = 8 * 5\t8 * 6 = 8 * 6\t8 * 7 = 8 * 7\t8 * 8 = 8 * 8\t8 * 9 = 8 * 9\t\n",
      "9 * 1 = 9 * 1\t9 * 2 = 9 * 2\t9 * 3 = 9 * 3\t9 * 4 = 9 * 4\t9 * 5 = 9 * 5\t9 * 6 = 9 * 6\t9 * 7 = 9 * 7\t9 * 8 = 9 * 8\t9 * 9 = 9 * 9\t\n"
     ]
    }
   ],
   "source": [
    "for i in range(1,10):\n",
    "    for j in range(1,10):\n",
    "        print(f'{i} * {j} = {i} * {j}',end='\\t')\n",
    "    print()"
   ]
  },
  {
   "cell_type": "code",
   "execution_count": 31,
   "metadata": {},
   "outputs": [
    {
     "name": "stdout",
     "output_type": "stream",
     "text": [
      "5_10_15.\n"
     ]
    }
   ],
   "source": [
    "(x,y,z)=(5,10,15)\n",
    "print(x,y,z,sep='_',end='.\\n')"
   ]
  },
  {
   "cell_type": "code",
   "execution_count": 33,
   "metadata": {},
   "outputs": [
    {
     "name": "stdout",
     "output_type": "stream",
     "text": [
      "max=50 min=35\n"
     ]
    }
   ],
   "source": [
    "value1=int(input('請輸入第一個數值:'))\n",
    "value2=int(input('請輸入第二個數值:'))\n",
    "if value1>value2:\n",
    "    max=value1\n",
    "    min=value2\n",
    "else:\n",
    "    max=value2\n",
    "    min=value1\n",
    "print(f'max={max} min={min}')"
   ]
  },
  {
   "cell_type": "code",
   "execution_count": 34,
   "metadata": {},
   "outputs": [
    {
     "name": "stdout",
     "output_type": "stream",
     "text": [
      "max=50 min=35\n"
     ]
    }
   ],
   "source": [
    "value1=int(input('請輸入第一個數值:'))\n",
    "value2=int(input('請輸入第二個數值:'))\n",
    "(max,min)=(value1,value2) if value1>value2 else (value2,value1)\n",
    "print(f'max={max} min={min}')"
   ]
  },
  {
   "cell_type": "code",
   "execution_count": 4,
   "metadata": {},
   "outputs": [
    {
     "name": "stdout",
     "output_type": "stream",
     "text": [
      "total=55\n",
      "程式結束\n"
     ]
    }
   ],
   "source": [
    "total=0\n",
    "i=1\n",
    "while i<=10:\n",
    "    total+=i\n",
    "    i+=1\n",
    "print(f'total={total}\\n程式結束')"
   ]
  }
 ],
 "metadata": {
  "kernelspec": {
   "display_name": "Python 3",
   "language": "python",
   "name": "python3"
  },
  "language_info": {
   "codemirror_mode": {
    "name": "ipython",
    "version": 3
   },
   "file_extension": ".py",
   "mimetype": "text/x-python",
   "name": "python",
   "nbconvert_exporter": "python",
   "pygments_lexer": "ipython3",
   "version": "3.11.9"
  }
 },
 "nbformat": 4,
 "nbformat_minor": 2
}
