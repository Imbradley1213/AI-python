{
 "cells": [
  {
   "cell_type": "code",
   "execution_count": 8,
   "metadata": {},
   "outputs": [
    {
     "name": "stdout",
     "output_type": "stream",
     "text": [
      "您已經存了2個月,共存了61110元\n"
     ]
    }
   ],
   "source": [
    "#小明想要存錢買一輛機車,機車每輛30000元，他將每月存的錢輸入，當存款足夠買機車時，就顯示提示訊息告知。\n",
    "deposit = 0\n",
    "month = 0\n",
    "while deposit<30000:\n",
    "    month += 1\n",
    "    money = int(input(f'請輸入第{month}月份的存款:'))\n",
    "    deposit += money\n",
    "print(f\"您已經存了{month}個月,共存了{deposit}元\")"
   ]
  },
  {
   "cell_type": "code",
   "execution_count": 10,
   "metadata": {},
   "outputs": [
    {
     "name": "stdout",
     "output_type": "stream",
     "text": [
      "Www\n",
      "應用程式結束!\n"
     ]
    }
   ],
   "source": [
    "#請輸入小寫的英文字串,將英文字第1個字變大寫\n",
    "#請輸入小寫英文字[按q會離開]:\n",
    "#taiwan輸出Taiwan\n",
    "\n",
    "stuff = input(\"請輸入小寫英文字[按q會離開]:\")\n",
    "#print(type(stuff))\n",
    "while not stuff == 'q':\n",
    "    print(stuff.capitalize())\n",
    "    stuff = input(\"請輸入小寫英文字[按q會離開]:\")\n",
    "print(\"應用程式結束!\")"
   ]
  },
  {
   "cell_type": "code",
   "execution_count": 12,
   "metadata": {},
   "outputs": [
    {
     "name": "stdout",
     "output_type": "stream",
     "text": [
      "Qqq\n",
      "Qqqq\n",
      "應用程式結束!\n"
     ]
    }
   ],
   "source": [
    "#請輸入小寫的英文字串,將英文字第1個字變大寫\n",
    "#請輸入小寫英文字[按q會離開]:\n",
    "#taiwan輸出Taiwan\n",
    "\n",
    "\n",
    "#print(type(stuff))\n",
    "while True:\n",
    "    stuff = input(\"請輸入小寫英文字[按q會離開]:\")\n",
    "    if stuff == 'q':\n",
    "        break\n",
    "    print(stuff.capitalize())\n",
    "    \n",
    "print(\"應用程式結束!\")"
   ]
  },
  {
   "cell_type": "code",
   "execution_count": 13,
   "metadata": {},
   "outputs": [
    {
     "name": "stdout",
     "output_type": "stream",
     "text": [
      "Wrw\n",
      "Wrewr\n",
      "Q\n",
      "應用程式結束!\n"
     ]
    }
   ],
   "source": [
    "#請輸入小寫的英文字串,將英文字第1個字變大寫\n",
    "#請輸入小寫英文字[按q會離開]:\n",
    "#taiwan輸出Taiwan\n",
    "\n",
    "\n",
    "#print(type(stuff))\n",
    "while True:\n",
    "    stuff = input(\"請輸入小寫英文字[按q會離開]:\")\n",
    "    if stuff == 'q':\n",
    "        break\n",
    "    else:\n",
    "        print(stuff.capitalize())\n",
    "        continue\n",
    "\n",
    "    print(\"沒用的程式\")\n",
    "    \n",
    "    \n",
    "print(\"應用程式結束!\")"
   ]
  },
  {
   "cell_type": "code",
   "execution_count": 19,
   "metadata": {},
   "outputs": [
    {
     "name": "stdout",
     "output_type": "stream",
     "text": [
      "WWW你好:\n",
      "你的BMI值為:24.69\n",
      "體重:過重\n",
      "應用程式結束\n"
     ]
    }
   ],
   "source": [
    "while True:\n",
    "    name=str(input('請輸入姓名:'))\n",
    "    try:\n",
    "        h=float(input('請輸入身高cm:'))\n",
    "        if h<=0:\n",
    "            raise Exception\n",
    "        w=float(input('請輸入體重kg:'))\n",
    "        if w<=0:\n",
    "            raise Exception\n",
    "    except Exception:\n",
    "        print('格式錯誤')\n",
    "    else:\n",
    "        BMI=round(w/((h*0.01)**2),ndigits=2)\n",
    "        print(f'{name}你好:')\n",
    "        print(f'你的BMI值為:{BMI}')\n",
    "        if BMI<18.5:\n",
    "            print('體重:過輕')\n",
    "        elif BMI<24:\n",
    "            print('體重:正常')\n",
    "        elif BMI<27:\n",
    "            print('體重:過重')\n",
    "        elif BMI<30:\n",
    "            print('體重:輕度肥胖')\n",
    "        elif BMI<35:\n",
    "            print('體重:中度肥胖')\n",
    "        else:\n",
    "            print('體重:重度肥胖')\n",
    "    stuff = input(\"請問還要繼續('q':離開,enter:繼續)嗎?:\")\n",
    "    if stuff=='q':\n",
    "        break\n",
    "print('應用程式結束')"
   ]
  }
 ],
 "metadata": {
  "kernelspec": {
   "display_name": "Python 3",
   "language": "python",
   "name": "python3"
  },
  "language_info": {
   "codemirror_mode": {
    "name": "ipython",
    "version": 3
   },
   "file_extension": ".py",
   "mimetype": "text/x-python",
   "name": "python",
   "nbconvert_exporter": "python",
   "pygments_lexer": "ipython3",
   "version": "3.11.9"
  }
 },
 "nbformat": 4,
 "nbformat_minor": 2
}
