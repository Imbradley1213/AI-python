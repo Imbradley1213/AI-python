{
 "cells": [
  {
   "cell_type": "code",
   "execution_count": 1,
   "metadata": {},
   "outputs": [
    {
     "data": {
      "text/plain": [
       "[3, 6, 9, 12, 15]"
      ]
     },
     "execution_count": 1,
     "metadata": {},
     "output_type": "execute_result"
    }
   ],
   "source": [
    "values=[1,2,3,4,5]\n",
    "multiply=3\n",
    "new_values=[]\n",
    "for i in values:\n",
    "    new_values.append(i*multiply)\n",
    "new_values"
   ]
  },
  {
   "cell_type": "code",
   "execution_count": 2,
   "metadata": {},
   "outputs": [
    {
     "data": {
      "text/plain": [
       "[3, 6, 9, 12, 15]"
      ]
     },
     "execution_count": 2,
     "metadata": {},
     "output_type": "execute_result"
    }
   ],
   "source": [
    "values=[1,2,3,4,5]\n",
    "multiply=3\n",
    "new_values=[i*multiply for i in values]\n",
    "new_values\n"
   ]
  },
  {
   "cell_type": "code",
   "execution_count": 3,
   "metadata": {},
   "outputs": [
    {
     "data": {
      "text/plain": [
       "[1, 2, 3, 4, 5, 1, 2, 3, 4, 5, 1, 2, 3, 4, 5]"
      ]
     },
     "execution_count": 3,
     "metadata": {},
     "output_type": "execute_result"
    }
   ],
   "source": [
    "values=[1,2,3,4,5]\n",
    "multiply=3\n",
    "values*multiply"
   ]
  },
  {
   "cell_type": "code",
   "execution_count": 6,
   "metadata": {},
   "outputs": [
    {
     "data": {
      "text/plain": [
       "array([ 3.14159, 12.56636, 28.27431, 50.26544, 78.53975])"
      ]
     },
     "execution_count": 6,
     "metadata": {},
     "output_type": "execute_result"
    }
   ],
   "source": [
    "import numpy as np\n",
    "values_array=np.array([1,2,3,4,5])\n",
    "multiply=3\n",
    "values_array*multiply\n",
    "values_array **2*3.14159"
   ]
  },
  {
   "cell_type": "code",
   "execution_count": 7,
   "metadata": {},
   "outputs": [
    {
     "data": {
      "text/plain": [
       "array([[89, 77, 68, 96, 89],\n",
       "       [56, 88, 50, 65, 81],\n",
       "       [93, 70, 84, 55, 56],\n",
       "       [59, 79, 70, 52, 79],\n",
       "       [53, 95, 87, 93, 90],\n",
       "       [55, 63, 96, 94, 91],\n",
       "       [98, 66, 76, 84, 59],\n",
       "       [85, 81, 72, 63, 67],\n",
       "       [71, 69, 85, 73, 65],\n",
       "       [95, 71, 51, 57, 87],\n",
       "       [90, 89, 54, 87, 84],\n",
       "       [83, 84, 77, 93, 83],\n",
       "       [79, 94, 76, 70, 77],\n",
       "       [99, 86, 90, 72, 96],\n",
       "       [81, 93, 93, 72, 56],\n",
       "       [95, 58, 52, 75, 71],\n",
       "       [63, 82, 67, 73, 99],\n",
       "       [85, 98, 82, 84, 93],\n",
       "       [59, 99, 80, 51, 97],\n",
       "       [87, 97, 99, 80, 60],\n",
       "       [76, 54, 78, 84, 98],\n",
       "       [77, 97, 99, 77, 94],\n",
       "       [57, 59, 76, 56, 90],\n",
       "       [57, 52, 83, 72, 57],\n",
       "       [84, 65, 51, 56, 87],\n",
       "       [70, 60, 92, 73, 83],\n",
       "       [78, 58, 70, 83, 61],\n",
       "       [95, 50, 65, 67, 81],\n",
       "       [99, 82, 65, 53, 90],\n",
       "       [54, 52, 70, 76, 70],\n",
       "       [86, 70, 67, 81, 83],\n",
       "       [56, 70, 51, 64, 97],\n",
       "       [78, 86, 75, 51, 73],\n",
       "       [77, 61, 95, 91, 55],\n",
       "       [96, 50, 62, 87, 79],\n",
       "       [69, 66, 90, 82, 97],\n",
       "       [95, 60, 88, 70, 94],\n",
       "       [79, 99, 63, 76, 99],\n",
       "       [74, 51, 97, 52, 94],\n",
       "       [73, 55, 53, 51, 52],\n",
       "       [52, 77, 82, 73, 81],\n",
       "       [87, 98, 56, 74, 68],\n",
       "       [83, 85, 87, 92, 51],\n",
       "       [96, 74, 56, 63, 92],\n",
       "       [61, 52, 79, 72, 73],\n",
       "       [62, 82, 57, 95, 68],\n",
       "       [71, 94, 85, 90, 98],\n",
       "       [64, 94, 52, 61, 75],\n",
       "       [76, 70, 53, 97, 63],\n",
       "       [89, 65, 70, 98, 79]])"
      ]
     },
     "execution_count": 7,
     "metadata": {},
     "output_type": "execute_result"
    }
   ],
   "source": [
    "import numpy as np\n",
    "np.random.randint(50,100,size=(50,5))"
   ]
  }
 ],
 "metadata": {
  "kernelspec": {
   "display_name": "Python 3",
   "language": "python",
   "name": "python3"
  },
  "language_info": {
   "codemirror_mode": {
    "name": "ipython",
    "version": 3
   },
   "file_extension": ".py",
   "mimetype": "text/x-python",
   "name": "python",
   "nbconvert_exporter": "python",
   "pygments_lexer": "ipython3",
   "version": "3.11.9"
  }
 },
 "nbformat": 4,
 "nbformat_minor": 2
}
