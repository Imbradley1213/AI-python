{
 "cells": [
  {
   "cell_type": "code",
   "execution_count": null,
   "metadata": {},
   "outputs": [],
   "source": [
    "name=str(input(\"請輸入姓名:\"))\n",
    "height=float(input(\"請輸入身高(cm):\"))\n",
    "weight=float(input(\"請輸入體重(kg):\"))\n",
    "height_m=height*0.01\n",
    "BMI=round(weight/height_m**2,ndigits=2)\n",
    "print(f\"{name}您好:\")\n",
    "print(f\"您的BMI值是:{BMI}\")"
   ]
  }
 ],
 "metadata": {
  "language_info": {
   "name": "python"
  }
 },
 "nbformat": 4,
 "nbformat_minor": 2
}
