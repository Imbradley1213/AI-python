{
 "cells": [
  {
   "cell_type": "code",
   "execution_count": null,
   "metadata": {},
   "outputs": [],
   "source": [
    "name=str(input(\"請輸入姓名:\"))\n",
    "height=float(input(\"請輸入身高(cm):\"))\n",
    "weight=float(input(\"請輸入體重(kg):\"))\n",
    "height_m=height*0.01\n",
    "BMI=round(weight/height_m**2,ndigits=2)\n",
    "print(f\"{name}您好:\")\n",
    "print(f\"您的BMI值是:{BMI}\")"
   ]
  }
 ],
 "metadata": {
  "kernelspec": {
   "display_name": "Python 3",
   "language": "python",
   "name": "python3"
  },
  "language_info": {
   "codemirror_mode": {
    "name": "ipython",
    "version": 3
   },
   "file_extension": ".py",
   "mimetype": "text/x-python",
   "name": "python",
   "nbconvert_exporter": "python",
   "pygments_lexer": "ipython3",
   "version": "3.11.9"
  }
 },
 "nbformat": 4,
 "nbformat_minor": 2
}
