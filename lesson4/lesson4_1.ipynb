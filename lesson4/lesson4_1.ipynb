{
 "cells": [
  {
   "cell_type": "code",
   "execution_count": 5,
   "metadata": {},
   "outputs": [
    {
     "name": "stdout",
     "output_type": "stream",
     "text": [
      "可以考駕照\n"
     ]
    }
   ],
   "source": [
    "age=20\n",
    "if age>=18:\n",
    "    print(\"可以考駕照\")\n",
    "else:\n",
    "    print(\"不可以考駕照\")"
   ]
  },
  {
   "cell_type": "code",
   "execution_count": 1,
   "metadata": {},
   "outputs": [
    {
     "name": "stdout",
     "output_type": "stream",
     "text": [
      "格式錯誤\n",
      "應用程式結束\n"
     ]
    }
   ],
   "source": [
    "#輸入學生分數,最高300分\n",
    "#要不要加分(y,n)\n",
    "#yes,總分加5%\n",
    "import math\n",
    "try:\n",
    "    score = int(input('請輸入學生分數(最高300分):'))\n",
    "    if score > 300:\n",
    "        raise Exception\n",
    "    if score < 0:\n",
    "        raise Exception\n",
    "    is_add = input('學生是否符合加分條件?(y,n)')\n",
    "\n",
    "    if is_add == 'y':\n",
    "        score *= 1.05\n",
    "        score = math.ceil(score)\n",
    "\n",
    "    print(f'學生總分數是:{score}')\n",
    "except ValueError:\n",
    "    print('格式錯誤')\n",
    "except Exception:\n",
    "    print('超出範圍')\n",
    "print('應用程式結束')"
   ]
  },
  {
   "cell_type": "code",
   "execution_count": null,
   "metadata": {},
   "outputs": [],
   "source": [
    "# 90(含)~100分為「優」\n",
    "# 80(含)~89分為「甲」\n",
    "# 70(含)~79分為「乙」\n",
    "# 60(含)~69分為「丙」\n",
    "# 0(含)~59分為「丁」\n",
    "\n",
    "score = int(input('請輸入學生分數:'))\n",
    "if score >= 90:\n",
    "    grade = '優'\n",
    "elif score >= 80:\n",
    "    grade = '甲'\n",
    "elif score >= 70:\n",
    "    grade = '乙'\n",
    "elif score >= 60:\n",
    "    grade = '丙'\n",
    "else:\n",
    "    grade = '丁'\n",
    "\n",
    "print(f\"學生分數等級為{grade}\")"
   ]
  }
 ],
 "metadata": {
  "kernelspec": {
   "display_name": "Python 3",
   "language": "python",
   "name": "python3"
  },
  "language_info": {
   "codemirror_mode": {
    "name": "ipython",
    "version": 3
   },
   "file_extension": ".py",
   "mimetype": "text/x-python",
   "name": "python",
   "nbconvert_exporter": "python",
   "pygments_lexer": "ipython3",
   "version": "3.11.9"
  }
 },
 "nbformat": 4,
 "nbformat_minor": 2
}
