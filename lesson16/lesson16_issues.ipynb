{
 "cells": [
  {
   "cell_type": "code",
   "execution_count": 1,
   "metadata": {},
   "outputs": [
    {
     "data": {
      "text/html": [
       "<div>\n",
       "<style scoped>\n",
       "    .dataframe tbody tr th:only-of-type {\n",
       "        vertical-align: middle;\n",
       "    }\n",
       "\n",
       "    .dataframe tbody tr th {\n",
       "        vertical-align: top;\n",
       "    }\n",
       "\n",
       "    .dataframe thead th {\n",
       "        text-align: right;\n",
       "    }\n",
       "</style>\n",
       "<table border=\"1\" class=\"dataframe\">\n",
       "  <thead>\n",
       "    <tr style=\"text-align: right;\">\n",
       "      <th></th>\n",
       "      <th>洲名</th>\n",
       "      <th>國家</th>\n",
       "      <th>日期</th>\n",
       "      <th>總確診數</th>\n",
       "      <th>新增確診數</th>\n",
       "      <th>總人口數</th>\n",
       "    </tr>\n",
       "  </thead>\n",
       "  <tbody>\n",
       "    <tr>\n",
       "      <th>0</th>\n",
       "      <td>亞洲</td>\n",
       "      <td>日本</td>\n",
       "      <td>2022-02-03</td>\n",
       "      <td>3019169</td>\n",
       "      <td>104345</td>\n",
       "      <td>126050796</td>\n",
       "    </tr>\n",
       "    <tr>\n",
       "      <th>1</th>\n",
       "      <td>北美洲</td>\n",
       "      <td>美國</td>\n",
       "      <td>2022-01-10</td>\n",
       "      <td>61801347</td>\n",
       "      <td>1383887</td>\n",
       "      <td>332915074</td>\n",
       "    </tr>\n",
       "  </tbody>\n",
       "</table>\n",
       "</div>"
      ],
      "text/plain": [
       "    洲名  國家          日期      總確診數    新增確診數       總人口數\n",
       "0   亞洲  日本  2022-02-03   3019169   104345  126050796\n",
       "1  北美洲  美國  2022-01-10  61801347  1383887  332915074"
      ]
     },
     "execution_count": 1,
     "metadata": {},
     "output_type": "execute_result"
    }
   ],
   "source": [
    "import pandas as pd\n",
    "\n",
    "df=pd.read_csv('world.csv')\n",
    "df1=df.reindex(columns=['洲名','國家','日期','總確診數','新增確診數','總人口數'])\n",
    "df_jp=df1.query('國家==\"日本\"')\n",
    "df_usa=df1.query('國家==\"美國\"')\n",
    "jp_max=df_jp['新增確診數'].max()\n",
    "usa_max=df_usa['新增確診數'].max()\n",
    "df_jp_max=df_jp.query('新增確診數==@jp_max')\n",
    "df_usa_max=df_usa.query('新增確診數==@usa_max')\n",
    "df_all_max=pd.concat([df_jp_max,df_usa_max],ignore_index=True)\n",
    "df_all_max\n"
   ]
  }
 ],
 "metadata": {
  "kernelspec": {
   "display_name": "venv1",
   "language": "python",
   "name": "python3"
  },
  "language_info": {
   "codemirror_mode": {
    "name": "ipython",
    "version": 3
   },
   "file_extension": ".py",
   "mimetype": "text/x-python",
   "name": "python",
   "nbconvert_exporter": "python",
   "pygments_lexer": "ipython3",
   "version": "3.11.9"
  }
 },
 "nbformat": 4,
 "nbformat_minor": 2
}
