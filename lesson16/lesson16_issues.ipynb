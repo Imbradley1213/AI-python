{
 "cells": [
  {
   "cell_type": "code",
   "execution_count": null,
   "metadata": {},
   "outputs": [],
   "source": [
    "import pandas as pd\n",
    "\n",
    "df=pd.read_csv('world.csv')\n",
    "df1=df.reindex(columns=['洲名','國家','日期','總確診數','新增確診數','總人口數'])\n",
    "df_jp=df1.query('國家==\"日本\"')\n",
    "df_usa=df1.query('國家==\"美國\"')\n",
    "jp_max=df_jp['新增確診數'].max()\n",
    "usa_max=df_usa['新增確診數'].max()\n",
    "df_jp_max=df_jp.query('新增確診數==@jp_max')\n",
    "df_usa_max=df_usa.query('新增確診數==@usa_max')\n",
    "df_all_max=pd.concat([df_jp_max,df_usa_max],ignore_index=True)\n",
    "df_all_max\n"
   ]
  }
 ],
 "metadata": {
  "kernelspec": {
   "display_name": "venv1",
   "language": "python",
   "name": "python3"
  },
  "language_info": {
   "name": "python",
   "version": "3.10.14"
  }
 },
 "nbformat": 4,
 "nbformat_minor": 2
}
