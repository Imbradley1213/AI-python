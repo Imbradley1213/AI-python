{
 "cells": [
  {
   "cell_type": "code",
   "execution_count": 19,
   "metadata": {},
   "outputs": [
    {
     "data": {
      "text/plain": [
       "'陳怡伶\\n馮芳如\\n蒙淑惠\\n張軒宸\\n陳向愛\\n賴心怡\\n王怡珊\\n林詠斌\\n陳淑娟\\n崔孝憲\\n林希啟\\n楊韋廷\\n陳文賢\\n王士銘\\n賴昌韻\\n黃名明\\n吳麗卿\\n游治旺\\n蔡嘉音\\n黃靜怡\\n黃淑芬\\n龔姵君\\n景歡燦\\n李政成\\n楊綺芬\\n昌嘉洋\\n李慈啟\\n游倫城\\n林淑安\\n蔡士賢\\n林世城\\n林佳蓉\\n柯宜臻\\n傅佳琳\\n林瑞喬\\n林佳慧\\n鍾俞禎\\n劉慧君\\n劉林中\\n林怡偉\\n余丞苓\\n黃佩玲\\n林建宏\\n方雅慧\\n林柏洋\\n郭舜昇\\n艾巧夫\\n童建霖\\n蔡至剛\\n黃心航\\n張凡成\\n郭淑枝\\n黃必琪\\n楊健麟\\n林建勳\\n鄭琇亞\\n王雅琴\\n李美洋\\n楊少亮\\n王泓泰\\n黃江旭\\n王梅劭\\n林佳光\\n盧必妍\\n林思賢\\n鄧哲榮\\n陳家年\\n張俊傑\\n洪阿惠\\n陳彥治\\n盧冠發\\n程玫靖\\n潘俊賢\\n呂傑宣\\n鄭孟芳\\n彭茹靖\\n王孝純\\n吳昕婷\\n朱惠儀\\n盧文啟\\n謝佳穎\\n鄭憲定\\n馮淑芬\\n聶心怡\\n黃志福\\n馬彥文\\n郭淑真\\n吳欣書\\n鄭佳玲\\n黃健發\\n胡姿婷\\n林義皓\\n胡芳瑜\\n楊易政\\n王德城\\n劉依婷\\n吳俐芷\\n黃詩妃\\n柯韋成\\n鄧亭聿\\n王雅慧\\n陳凱翔\\n藍哲嘉\\n趙偉銘\\n張韋成\\n林向鈺\\n周琬婷\\n尚偉倫\\n賴佳雯\\n陳姵彬\\n林群清\\n趙家豪\\n李政白\\n林俊翔\\n李進慧\\n楊韻如\\n藍姿婷\\n劉嘉泰\\n王柏聖\\n孫宜珊\\n戴萱能\\n高士凱\\n楊又源\\n劉昀天\\n王怡君\\n余月修\\n劉萬季\\n陳信宏\\n陳孝邦\\n朱彥志\\n陳奇瑄\\n鄧淑娟\\n陳逸凡\\n張牧聿\\n唐雪豪\\n林康亮\\n黃旻林\\n蕭淑華\\n劉雯芬\\n陳美惠\\n孫火清\\n溫法堯\\n錢欣潔\\n陳倩潔\\n李雅怡\\n白美珍\\n葉志峰\\n黃佩芬\\n黃麗美\\n黃奎紹\\n邱亭君\\n詹忠光\\n戚亨\\n賴又琦\\n林佳人\\n黃善迪\\n賴苑禾\\n溫重意\\n周怡啟\\n王明昇\\n羅佩樺\\n陳家維\\n張莉雯\\n高俊男\\n林冠蕙\\n王品星\\n吳孟穎\\n黃雅慧\\n馮耀中\\n元延辛\\n王坤安\\n陳慧君\\n張伊映\\n林士凱\\n蘇婷婷\\n陳淑萍\\n林玉佩\\n謝貞妃\\n杜儀鳳\\n陳倩妮\\n胡淑貞\\n楊偉翔\\n姜琬婷\\n張雅芬\\n葉祖雄\\n沈心利\\n彭虹屏\\n余宗儒\\n李立偉\\n臧怡君\\n吳振瑋\\n陳建豪\\n蕭怡伶\\n周芷蓁\\n黃偉剛\\n黃婷婷\\n郎慧萍\\n林昱芳\\n趙宛真\\n白世宏\\n杜明延\\n許淑婷\\n林珍旺\\n蔡孟泉\\n吳晴洋\\n游一鈺\\n朱士弘\\n黃政甫\\n游淑惠\\n張婕妤\\n陳逸華\\n張天亨\\n張嘉韋\\n王志謙\\n黎惠雯\\n高信宏\\n梁柏宇\\n林志喜\\n金宜芳\\n簡國瑋\\n林清英\\n黃彥孝\\n鄭奇翰\\n李慶亮\\n李蓉瑞\\n張明惟\\n游詩亞\\n黃嘉琪\\n張家秀\\n吳柏誠\\n陳得映\\n郭致恬\\n林麗萍\\n陳樂紫\\n翁鈺婷\\n蔡世馨\\n楊建安\\n李湘婷\\n鞠冠宇\\n林志成\\n陳信念\\n林益妏\\n蔡偉成\\n王惠皓\\n王筱婷\\n楊火帆\\n陳怡珊\\n張慧君\\n翁羽威\\n羅幸娥\\n陳俊憲\\n洪奎夫\\n翁均安\\n吳明妮\\n高智超\\n王人仰\\n劉旭士\\n蘇凡菁\\n謝哲維\\n彭偉妃\\n劉耿琦\\n黃柏宇\\n李佳彥\\n唐翊修\\n陳建香\\n葉軍仰\\n吳志宣\\n林珈發\\n黃翔杰\\n郭坤花\\n吳淑惠\\n簡美君\\n許芳如\\n謝水儒\\n陳怡容\\n蔡欣汝\\n王良斌\\n周家銘\\n張凱妮\\n鄭淑珍\\n陳嘉淑\\n魏秋萍\\n簡佳樺\\n劉佳佩\\n李彥伸\\n陳筱涵\\n蔡明平\\n王展人\\n方筠紹\\n陳志偉\\n錢佩豪\\n陳冠霞\\n潘英迪\\n陳冠竹\\n李淑芳\\n謝南慧\\n趙家豪\\n龐皓芳\\n張彥博'"
      ]
     },
     "metadata": {},
     "output_type": "display_data"
    }
   ],
   "source": [
    "import random as rd\n",
    "with open('names.txt',encoding='utf-8') as file:\n",
    "    names_str=file.read()\n",
    "    display(names_str)\n",
    "names_list = names_str.split(sep='\\n')\n",
    "names = rd.choices(names_list,k=50)"
   ]
  },
  {
   "cell_type": "code",
   "execution_count": null,
   "metadata": {},
   "outputs": [],
   "source": [
    "import numpy as np\n",
    "import pandas as pd\n",
    "scores = np.random.randint(50,101,size=(50,5))\n",
    "df1 = pd.DataFrame(scores,\n",
    "                   columns=['國文','英文','數學','地理','探索'],\n",
    "                   index=names)\n",
    "df1\n",
    "\n"
   ]
  },
  {
   "cell_type": "code",
   "execution_count": null,
   "metadata": {},
   "outputs": [],
   "source": [
    "#to_numpy()\n",
    "df1.to_numpy()"
   ]
  },
  {
   "cell_type": "code",
   "execution_count": 34,
   "metadata": {},
   "outputs": [],
   "source": [
    "#to_csv()\n",
    "df1.to_csv('students.csv')"
   ]
  },
  {
   "cell_type": "code",
   "execution_count": 37,
   "metadata": {},
   "outputs": [
    {
     "ename": "ModuleNotFoundError",
     "evalue": "No module named 'openpyxl'",
     "output_type": "error",
     "traceback": [
      "\u001b[0;31m---------------------------------------------------------------------------\u001b[0m",
      "\u001b[0;31mModuleNotFoundError\u001b[0m                       Traceback (most recent call last)",
      "Cell \u001b[0;32mIn[37], line 2\u001b[0m\n\u001b[1;32m      1\u001b[0m \u001b[38;5;66;03m#to_excel()\u001b[39;00m\n\u001b[0;32m----> 2\u001b[0m \u001b[43mdf1\u001b[49m\u001b[38;5;241;43m.\u001b[39;49m\u001b[43mto_excel\u001b[49m\u001b[43m(\u001b[49m\u001b[38;5;124;43m'\u001b[39;49m\u001b[38;5;124;43mstudents.xlsx\u001b[39;49m\u001b[38;5;124;43m'\u001b[39;49m\u001b[43m,\u001b[49m\u001b[43msheet_name\u001b[49m\u001b[38;5;241;43m=\u001b[39;49m\u001b[38;5;124;43m'\u001b[39;49m\u001b[38;5;124;43m3年5班\u001b[39;49m\u001b[38;5;124;43m'\u001b[39;49m\u001b[43m)\u001b[49m\n",
      "File \u001b[0;32m~/.local/lib/python3.11/site-packages/pandas/util/_decorators.py:333\u001b[0m, in \u001b[0;36mdeprecate_nonkeyword_arguments.<locals>.decorate.<locals>.wrapper\u001b[0;34m(*args, **kwargs)\u001b[0m\n\u001b[1;32m    327\u001b[0m \u001b[38;5;28;01mif\u001b[39;00m \u001b[38;5;28mlen\u001b[39m(args) \u001b[38;5;241m>\u001b[39m num_allow_args:\n\u001b[1;32m    328\u001b[0m     warnings\u001b[38;5;241m.\u001b[39mwarn(\n\u001b[1;32m    329\u001b[0m         msg\u001b[38;5;241m.\u001b[39mformat(arguments\u001b[38;5;241m=\u001b[39m_format_argument_list(allow_args)),\n\u001b[1;32m    330\u001b[0m         \u001b[38;5;167;01mFutureWarning\u001b[39;00m,\n\u001b[1;32m    331\u001b[0m         stacklevel\u001b[38;5;241m=\u001b[39mfind_stack_level(),\n\u001b[1;32m    332\u001b[0m     )\n\u001b[0;32m--> 333\u001b[0m \u001b[38;5;28;01mreturn\u001b[39;00m \u001b[43mfunc\u001b[49m\u001b[43m(\u001b[49m\u001b[38;5;241;43m*\u001b[39;49m\u001b[43margs\u001b[49m\u001b[43m,\u001b[49m\u001b[43m \u001b[49m\u001b[38;5;241;43m*\u001b[39;49m\u001b[38;5;241;43m*\u001b[39;49m\u001b[43mkwargs\u001b[49m\u001b[43m)\u001b[49m\n",
      "File \u001b[0;32m~/.local/lib/python3.11/site-packages/pandas/core/generic.py:2417\u001b[0m, in \u001b[0;36mNDFrame.to_excel\u001b[0;34m(self, excel_writer, sheet_name, na_rep, float_format, columns, header, index, index_label, startrow, startcol, engine, merge_cells, inf_rep, freeze_panes, storage_options, engine_kwargs)\u001b[0m\n\u001b[1;32m   2404\u001b[0m \u001b[38;5;28;01mfrom\u001b[39;00m \u001b[38;5;21;01mpandas\u001b[39;00m\u001b[38;5;21;01m.\u001b[39;00m\u001b[38;5;21;01mio\u001b[39;00m\u001b[38;5;21;01m.\u001b[39;00m\u001b[38;5;21;01mformats\u001b[39;00m\u001b[38;5;21;01m.\u001b[39;00m\u001b[38;5;21;01mexcel\u001b[39;00m \u001b[38;5;28;01mimport\u001b[39;00m ExcelFormatter\n\u001b[1;32m   2406\u001b[0m formatter \u001b[38;5;241m=\u001b[39m ExcelFormatter(\n\u001b[1;32m   2407\u001b[0m     df,\n\u001b[1;32m   2408\u001b[0m     na_rep\u001b[38;5;241m=\u001b[39mna_rep,\n\u001b[0;32m   (...)\u001b[0m\n\u001b[1;32m   2415\u001b[0m     inf_rep\u001b[38;5;241m=\u001b[39minf_rep,\n\u001b[1;32m   2416\u001b[0m )\n\u001b[0;32m-> 2417\u001b[0m \u001b[43mformatter\u001b[49m\u001b[38;5;241;43m.\u001b[39;49m\u001b[43mwrite\u001b[49m\u001b[43m(\u001b[49m\n\u001b[1;32m   2418\u001b[0m \u001b[43m    \u001b[49m\u001b[43mexcel_writer\u001b[49m\u001b[43m,\u001b[49m\n\u001b[1;32m   2419\u001b[0m \u001b[43m    \u001b[49m\u001b[43msheet_name\u001b[49m\u001b[38;5;241;43m=\u001b[39;49m\u001b[43msheet_name\u001b[49m\u001b[43m,\u001b[49m\n\u001b[1;32m   2420\u001b[0m \u001b[43m    \u001b[49m\u001b[43mstartrow\u001b[49m\u001b[38;5;241;43m=\u001b[39;49m\u001b[43mstartrow\u001b[49m\u001b[43m,\u001b[49m\n\u001b[1;32m   2421\u001b[0m \u001b[43m    \u001b[49m\u001b[43mstartcol\u001b[49m\u001b[38;5;241;43m=\u001b[39;49m\u001b[43mstartcol\u001b[49m\u001b[43m,\u001b[49m\n\u001b[1;32m   2422\u001b[0m \u001b[43m    \u001b[49m\u001b[43mfreeze_panes\u001b[49m\u001b[38;5;241;43m=\u001b[39;49m\u001b[43mfreeze_panes\u001b[49m\u001b[43m,\u001b[49m\n\u001b[1;32m   2423\u001b[0m \u001b[43m    \u001b[49m\u001b[43mengine\u001b[49m\u001b[38;5;241;43m=\u001b[39;49m\u001b[43mengine\u001b[49m\u001b[43m,\u001b[49m\n\u001b[1;32m   2424\u001b[0m \u001b[43m    \u001b[49m\u001b[43mstorage_options\u001b[49m\u001b[38;5;241;43m=\u001b[39;49m\u001b[43mstorage_options\u001b[49m\u001b[43m,\u001b[49m\n\u001b[1;32m   2425\u001b[0m \u001b[43m    \u001b[49m\u001b[43mengine_kwargs\u001b[49m\u001b[38;5;241;43m=\u001b[39;49m\u001b[43mengine_kwargs\u001b[49m\u001b[43m,\u001b[49m\n\u001b[1;32m   2426\u001b[0m \u001b[43m\u001b[49m\u001b[43m)\u001b[49m\n",
      "File \u001b[0;32m~/.local/lib/python3.11/site-packages/pandas/io/formats/excel.py:943\u001b[0m, in \u001b[0;36mExcelFormatter.write\u001b[0;34m(self, writer, sheet_name, startrow, startcol, freeze_panes, engine, storage_options, engine_kwargs)\u001b[0m\n\u001b[1;32m    941\u001b[0m     need_save \u001b[38;5;241m=\u001b[39m \u001b[38;5;28;01mFalse\u001b[39;00m\n\u001b[1;32m    942\u001b[0m \u001b[38;5;28;01melse\u001b[39;00m:\n\u001b[0;32m--> 943\u001b[0m     writer \u001b[38;5;241m=\u001b[39m \u001b[43mExcelWriter\u001b[49m\u001b[43m(\u001b[49m\n\u001b[1;32m    944\u001b[0m \u001b[43m        \u001b[49m\u001b[43mwriter\u001b[49m\u001b[43m,\u001b[49m\n\u001b[1;32m    945\u001b[0m \u001b[43m        \u001b[49m\u001b[43mengine\u001b[49m\u001b[38;5;241;43m=\u001b[39;49m\u001b[43mengine\u001b[49m\u001b[43m,\u001b[49m\n\u001b[1;32m    946\u001b[0m \u001b[43m        \u001b[49m\u001b[43mstorage_options\u001b[49m\u001b[38;5;241;43m=\u001b[39;49m\u001b[43mstorage_options\u001b[49m\u001b[43m,\u001b[49m\n\u001b[1;32m    947\u001b[0m \u001b[43m        \u001b[49m\u001b[43mengine_kwargs\u001b[49m\u001b[38;5;241;43m=\u001b[39;49m\u001b[43mengine_kwargs\u001b[49m\u001b[43m,\u001b[49m\n\u001b[1;32m    948\u001b[0m \u001b[43m    \u001b[49m\u001b[43m)\u001b[49m\n\u001b[1;32m    949\u001b[0m     need_save \u001b[38;5;241m=\u001b[39m \u001b[38;5;28;01mTrue\u001b[39;00m\n\u001b[1;32m    951\u001b[0m \u001b[38;5;28;01mtry\u001b[39;00m:\n",
      "File \u001b[0;32m~/.local/lib/python3.11/site-packages/pandas/io/excel/_openpyxl.py:57\u001b[0m, in \u001b[0;36mOpenpyxlWriter.__init__\u001b[0;34m(self, path, engine, date_format, datetime_format, mode, storage_options, if_sheet_exists, engine_kwargs, **kwargs)\u001b[0m\n\u001b[1;32m     44\u001b[0m \u001b[38;5;28;01mdef\u001b[39;00m \u001b[38;5;21m__init__\u001b[39m(\n\u001b[1;32m     45\u001b[0m     \u001b[38;5;28mself\u001b[39m,\n\u001b[1;32m     46\u001b[0m     path: FilePath \u001b[38;5;241m|\u001b[39m WriteExcelBuffer \u001b[38;5;241m|\u001b[39m ExcelWriter,\n\u001b[0;32m   (...)\u001b[0m\n\u001b[1;32m     55\u001b[0m ) \u001b[38;5;241m-\u001b[39m\u001b[38;5;241m>\u001b[39m \u001b[38;5;28;01mNone\u001b[39;00m:\n\u001b[1;32m     56\u001b[0m     \u001b[38;5;66;03m# Use the openpyxl module as the Excel writer.\u001b[39;00m\n\u001b[0;32m---> 57\u001b[0m     \u001b[38;5;28;01mfrom\u001b[39;00m \u001b[38;5;21;01mopenpyxl\u001b[39;00m\u001b[38;5;21;01m.\u001b[39;00m\u001b[38;5;21;01mworkbook\u001b[39;00m \u001b[38;5;28;01mimport\u001b[39;00m Workbook\n\u001b[1;32m     59\u001b[0m     engine_kwargs \u001b[38;5;241m=\u001b[39m combine_kwargs(engine_kwargs, kwargs)\n\u001b[1;32m     61\u001b[0m     \u001b[38;5;28msuper\u001b[39m()\u001b[38;5;241m.\u001b[39m\u001b[38;5;21m__init__\u001b[39m(\n\u001b[1;32m     62\u001b[0m         path,\n\u001b[1;32m     63\u001b[0m         mode\u001b[38;5;241m=\u001b[39mmode,\n\u001b[0;32m   (...)\u001b[0m\n\u001b[1;32m     66\u001b[0m         engine_kwargs\u001b[38;5;241m=\u001b[39mengine_kwargs,\n\u001b[1;32m     67\u001b[0m     )\n",
      "\u001b[0;31mModuleNotFoundError\u001b[0m: No module named 'openpyxl'"
     ]
    }
   ],
   "source": [
    "#to_excel()\n",
    "df1.to_excel('students.xlsx',sheet_name='3年5班')"
   ]
  }
 ],
 "metadata": {
  "kernelspec": {
   "display_name": "Python 3",
   "language": "python",
   "name": "python3"
  },
  "language_info": {
   "codemirror_mode": {
    "name": "ipython",
    "version": 3
   },
   "file_extension": ".py",
   "mimetype": "text/x-python",
   "name": "python",
   "nbconvert_exporter": "python",
   "pygments_lexer": "ipython3",
   "version": "3.11.9"
  }
 },
 "nbformat": 4,
 "nbformat_minor": 2
}
