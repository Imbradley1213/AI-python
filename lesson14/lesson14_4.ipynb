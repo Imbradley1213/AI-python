{
 "cells": [
  {
   "cell_type": "code",
   "execution_count": null,
   "metadata": {},
   "outputs": [],
   "source": [
    "\n",
    "import pandas as pd\n",
    "\n",
    "df = pd.read_csv('students.csv',index_col=0)\n",
    "df"
   ]
  },
  {
   "cell_type": "code",
   "execution_count": null,
   "metadata": {},
   "outputs": [],
   "source": [
    "#選取欄位\n",
    "df['國文']"
   ]
  },
  {
   "cell_type": "code",
   "execution_count": null,
   "metadata": {},
   "outputs": [],
   "source": [
    "#選取多個欄位\n",
    "df[['國文','英文','數學']]"
   ]
  },
  {
   "cell_type": "code",
   "execution_count": null,
   "metadata": {},
   "outputs": [],
   "source": [
    "#陣列運算\n",
    "#建立新欄位\n",
    "sum=df['國文']+df['英文']+df['數學']+df['地理']+df['探索']\n",
    "averange=sum/5\n",
    "averange\n",
    "df['總分']=sum\n",
    "df['平均']=averange\n",
    "df"
   ]
  },
  {
   "cell_type": "code",
   "execution_count": 20,
   "metadata": {},
   "outputs": [
    {
     "data": {
      "text/plain": [
       "國文     64.0\n",
       "英文     84.0\n",
       "數學     91.0\n",
       "地理     69.0\n",
       "探索     60.0\n",
       "總分    368.0\n",
       "平均     73.6\n",
       "Name: 柯宜臻, dtype: float64"
      ]
     },
     "execution_count": 20,
     "metadata": {},
     "output_type": "execute_result"
    }
   ],
   "source": [
    "df.loc['柯宜臻']"
   ]
  },
  {
   "cell_type": "code",
   "execution_count": 31,
   "metadata": {},
   "outputs": [
    {
     "data": {
      "text/html": [
       "<div>\n",
       "<style scoped>\n",
       "    .dataframe tbody tr th:only-of-type {\n",
       "        vertical-align: middle;\n",
       "    }\n",
       "\n",
       "    .dataframe tbody tr th {\n",
       "        vertical-align: top;\n",
       "    }\n",
       "\n",
       "    .dataframe thead th {\n",
       "        text-align: right;\n",
       "    }\n",
       "</style>\n",
       "<table border=\"1\" class=\"dataframe\">\n",
       "  <thead>\n",
       "    <tr style=\"text-align: right;\">\n",
       "      <th></th>\n",
       "      <th>國文</th>\n",
       "      <th>英文</th>\n",
       "      <th>數學</th>\n",
       "      <th>地理</th>\n",
       "      <th>探索</th>\n",
       "      <th>總分</th>\n",
       "      <th>平均</th>\n",
       "    </tr>\n",
       "  </thead>\n",
       "  <tbody>\n",
       "    <tr>\n",
       "      <th>柯宜臻</th>\n",
       "      <td>64</td>\n",
       "      <td>84</td>\n",
       "      <td>91</td>\n",
       "      <td>69</td>\n",
       "      <td>60</td>\n",
       "      <td>368</td>\n",
       "      <td>73.6</td>\n",
       "    </tr>\n",
       "    <tr>\n",
       "      <th>陳奇瑄</th>\n",
       "      <td>50</td>\n",
       "      <td>84</td>\n",
       "      <td>91</td>\n",
       "      <td>73</td>\n",
       "      <td>88</td>\n",
       "      <td>386</td>\n",
       "      <td>77.2</td>\n",
       "    </tr>\n",
       "    <tr>\n",
       "      <th>王泓泰</th>\n",
       "      <td>77</td>\n",
       "      <td>80</td>\n",
       "      <td>82</td>\n",
       "      <td>72</td>\n",
       "      <td>68</td>\n",
       "      <td>379</td>\n",
       "      <td>75.8</td>\n",
       "    </tr>\n",
       "    <tr>\n",
       "      <th>張俊傑</th>\n",
       "      <td>90</td>\n",
       "      <td>80</td>\n",
       "      <td>75</td>\n",
       "      <td>96</td>\n",
       "      <td>95</td>\n",
       "      <td>436</td>\n",
       "      <td>87.2</td>\n",
       "    </tr>\n",
       "    <tr>\n",
       "      <th>昌嘉洋</th>\n",
       "      <td>92</td>\n",
       "      <td>60</td>\n",
       "      <td>71</td>\n",
       "      <td>67</td>\n",
       "      <td>77</td>\n",
       "      <td>367</td>\n",
       "      <td>73.4</td>\n",
       "    </tr>\n",
       "  </tbody>\n",
       "</table>\n",
       "</div>"
      ],
      "text/plain": [
       "     國文  英文  數學  地理  探索   總分    平均\n",
       "柯宜臻  64  84  91  69  60  368  73.6\n",
       "陳奇瑄  50  84  91  73  88  386  77.2\n",
       "王泓泰  77  80  82  72  68  379  75.8\n",
       "張俊傑  90  80  75  96  95  436  87.2\n",
       "昌嘉洋  92  60  71  67  77  367  73.4"
      ]
     },
     "execution_count": 31,
     "metadata": {},
     "output_type": "execute_result"
    }
   ],
   "source": [
    "df.iloc[:5,:]"
   ]
  }
 ],
 "metadata": {
  "kernelspec": {
   "display_name": "Python 3",
   "language": "python",
   "name": "python3"
  },
  "language_info": {
   "codemirror_mode": {
    "name": "ipython",
    "version": 3
   },
   "file_extension": ".py",
   "mimetype": "text/x-python",
   "name": "python",
   "nbconvert_exporter": "python",
   "pygments_lexer": "ipython3",
   "version": "3.11.9"
  }
 },
 "nbformat": 4,
 "nbformat_minor": 2
}
