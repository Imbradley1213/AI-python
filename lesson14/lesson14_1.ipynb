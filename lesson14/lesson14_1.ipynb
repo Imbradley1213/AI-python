{
 "cells": [
  {
   "cell_type": "code",
   "execution_count": 3,
   "metadata": {},
   "outputs": [
    {
     "data": {
      "text/plain": [
       "[1, 3, 5, 7, 9, 3, 5, 6, 7, 9]"
      ]
     },
     "execution_count": 3,
     "metadata": {},
     "output_type": "execute_result"
    }
   ],
   "source": [
    "list_a=[1,3,5,7,9]\n",
    "list_b=[3,5,6,7,9]\n",
    "list_a+list_b"
   ]
  },
  {
   "cell_type": "code",
   "execution_count": 11,
   "metadata": {},
   "outputs": [
    {
     "data": {
      "text/plain": [
       "array([ 4,  8, 11, 14, 18])"
      ]
     },
     "execution_count": 11,
     "metadata": {},
     "output_type": "execute_result"
    }
   ],
   "source": [
    "import numpy as np\n",
    "array_a=np.array([1,3,5,7,9])\n",
    "array_b=np.array([3,5,6,7,9])\n",
    "type(array_a)\n",
    "array_a+array_b\n"
   ]
  },
  {
   "cell_type": "code",
   "execution_count": 16,
   "metadata": {},
   "outputs": [
    {
     "data": {
      "text/plain": [
       "(2, (2, 3), 6, dtype('int64'))"
      ]
     },
     "execution_count": 16,
     "metadata": {},
     "output_type": "execute_result"
    }
   ],
   "source": [
    "import numpy as np\n",
    "l=[[1,2,3],[2,3,4]]\n",
    "array=np.array(l)\n",
    "array.ndim,array.shape,array.size,array.dtype"
   ]
  },
  {
   "cell_type": "code",
   "execution_count": 34,
   "metadata": {},
   "outputs": [
    {
     "data": {
      "text/plain": [
       "array([[-0.42234841, -0.9302822 ,  1.00297415,  1.1209148 , -1.36589847],\n",
       "       [ 0.07713246,  0.6058436 ,  1.84190779,  1.29950082,  0.61988715],\n",
       "       [ 0.67792035, -0.90921882, -0.30368738, -0.73870608,  0.00662653],\n",
       "       [ 0.7442891 , -0.92292192,  1.44831659, -0.48613063,  1.0658277 ],\n",
       "       [-0.94531342, -0.50129151,  1.00212564,  1.99401665, -0.91217038],\n",
       "       [-0.47885227,  0.3008749 , -0.35033094, -0.9197028 , -0.78329563],\n",
       "       [-0.20593974,  0.06979519, -1.36128495, -0.54981503,  1.16532977],\n",
       "       [ 0.56425284, -2.96689881, -0.59638043, -0.5296174 , -0.56535508],\n",
       "       [-1.86611749, -0.0950073 ,  1.26449191, -0.03161876, -2.12123465],\n",
       "       [-1.9055948 ,  1.18608343,  0.64865916, -0.81896292, -0.30881424]])"
      ]
     },
     "execution_count": 34,
     "metadata": {},
     "output_type": "execute_result"
    }
   ],
   "source": [
    "import numpy as np\n",
    "np.random.randn(10,5)"
   ]
  },
  {
   "cell_type": "code",
   "execution_count": 35,
   "metadata": {},
   "outputs": [
    {
     "data": {
      "text/plain": [
       "array([[ 75,  70,  71,  88,  72],\n",
       "       [ 69,  53,  73,  62,  57],\n",
       "       [ 53,  54,  77,  97,  93],\n",
       "       [ 96,  74,  72,  86,  79],\n",
       "       [ 73,  90,  56,  92,  66],\n",
       "       [ 76,  52,  97,  93,  99],\n",
       "       [ 95,  87,  99,  54,  98],\n",
       "       [ 73,  68,  74,  94,  51],\n",
       "       [ 81,  62,  60,  78,  63],\n",
       "       [ 65, 100,  72,  53,  64],\n",
       "       [ 83,  51,  96,  52,  68],\n",
       "       [ 52,  92,  54,  84,  82],\n",
       "       [ 80,  67,  86,  51,  55],\n",
       "       [ 77,  63,  73,  50,  68],\n",
       "       [ 67,  79,  88,  62,  50],\n",
       "       [ 79,  68,  72,  69,  83],\n",
       "       [ 78,  57, 100,  59,  50],\n",
       "       [ 80,  60,  67,  89,  98],\n",
       "       [ 75,  81,  82,  98,  76],\n",
       "       [ 86,  83,  73,  98,  93],\n",
       "       [ 70,  84,  72,  89,  64],\n",
       "       [ 63,  62,  93,  75,  97],\n",
       "       [ 51,  65,  82,  52,  63],\n",
       "       [ 84,  56,  84,  96,  50],\n",
       "       [ 84,  58,  86,  85,  54],\n",
       "       [ 94,  73,  76,  78,  84],\n",
       "       [ 81,  68,  84,  53,  91],\n",
       "       [ 77,  78,  56,  73,  63],\n",
       "       [ 59,  99,  62,  57,  73],\n",
       "       [ 54,  59,  65,  84,  87],\n",
       "       [ 52,  83,  71,  73,  90],\n",
       "       [ 84,  94,  57,  67,  71],\n",
       "       [ 96,  88,  92, 100,  55],\n",
       "       [ 66,  63,  98,  50,  63],\n",
       "       [ 84,  57,  69,  96,  93],\n",
       "       [100,  81,  81,  84,  79],\n",
       "       [ 52,  52,  71,  69,  50],\n",
       "       [ 69,  97,  96,  88,  60],\n",
       "       [ 92,  66,  92,  58,  69],\n",
       "       [ 64,  71,  57,  82,  69],\n",
       "       [ 69,  71,  89,  63,  96],\n",
       "       [ 52,  50,  76,  96,  50],\n",
       "       [ 66,  56,  87,  70,  77],\n",
       "       [ 70,  81,  52,  70,  67],\n",
       "       [ 51,  75,  79,  73,  51],\n",
       "       [ 75,  67,  55,  55,  56],\n",
       "       [ 90,  62, 100,  55,  96],\n",
       "       [ 86,  64,  51,  78,  69],\n",
       "       [ 53,  84,  73,  53,  97],\n",
       "       [ 82,  77,  83,  68,  62]])"
      ]
     },
     "execution_count": 35,
     "metadata": {},
     "output_type": "execute_result"
    }
   ],
   "source": [
    "#50個學生,每個學生有5個分數(50-100)\n",
    "import numpy as np\n",
    "scores=np.random.randint(50,101,size=(50,5))\n",
    "scores"
   ]
  },
  {
   "cell_type": "code",
   "execution_count": 43,
   "metadata": {},
   "outputs": [
    {
     "data": {
      "text/plain": [
       "array([75, 70, 71, 88, 72])"
      ]
     },
     "execution_count": 43,
     "metadata": {},
     "output_type": "execute_result"
    }
   ],
   "source": [
    "#第一個學生\n",
    "scores[0,:]\n"
   ]
  },
  {
   "cell_type": "code",
   "execution_count": 44,
   "metadata": {},
   "outputs": [
    {
     "data": {
      "text/plain": [
       "array([[75, 70, 71, 88, 72],\n",
       "       [69, 53, 73, 62, 57],\n",
       "       [53, 54, 77, 97, 93],\n",
       "       [96, 74, 72, 86, 79],\n",
       "       [73, 90, 56, 92, 66]])"
      ]
     },
     "execution_count": 44,
     "metadata": {},
     "output_type": "execute_result"
    }
   ],
   "source": [
    "#前5個學生\n",
    "scores[:5,:]"
   ]
  },
  {
   "cell_type": "code",
   "execution_count": 45,
   "metadata": {},
   "outputs": [
    {
     "data": {
      "text/plain": [
       "array([[ 75,  67,  55,  55,  56],\n",
       "       [ 90,  62, 100,  55,  96],\n",
       "       [ 86,  64,  51,  78,  69],\n",
       "       [ 53,  84,  73,  53,  97],\n",
       "       [ 82,  77,  83,  68,  62]])"
      ]
     },
     "execution_count": 45,
     "metadata": {},
     "output_type": "execute_result"
    }
   ],
   "source": [
    "#最後5個學生\n",
    "scores[-5:,:]"
   ]
  },
  {
   "cell_type": "code",
   "execution_count": 41,
   "metadata": {},
   "outputs": [
    {
     "data": {
      "text/plain": [
       "array([ 75,  69,  53,  96,  73,  76,  95,  73,  81,  65,  83,  52,  80,\n",
       "        77,  67,  79,  78,  80,  75,  86,  70,  63,  51,  84,  84,  94,\n",
       "        81,  77,  59,  54,  52,  84,  96,  66,  84, 100,  52,  69,  92,\n",
       "        64,  69,  52,  66,  70,  51,  75,  90,  86,  53,  82])"
      ]
     },
     "execution_count": 41,
     "metadata": {},
     "output_type": "execute_result"
    }
   ],
   "source": [
    "#全班第一科的分數\n",
    "scores[:,0]"
   ]
  },
  {
   "cell_type": "code",
   "execution_count": 42,
   "metadata": {},
   "outputs": [
    {
     "data": {
      "text/plain": [
       "array([ 70,  53,  54,  74,  90,  52,  87,  68,  62, 100,  51,  92,  67,\n",
       "        63,  79,  68,  57,  60,  81,  83,  84,  62,  65,  56,  58,  73,\n",
       "        68,  78,  99,  59,  83,  94,  88,  63,  57,  81,  52,  97,  66,\n",
       "        71,  71,  50,  56,  81,  75,  67,  62,  64,  84,  77])"
      ]
     },
     "execution_count": 42,
     "metadata": {},
     "output_type": "execute_result"
    }
   ],
   "source": [
    "#全班第2科的分數\n",
    "scores[:,1]"
   ]
  },
  {
   "cell_type": "code",
   "execution_count": 47,
   "metadata": {},
   "outputs": [
    {
     "data": {
      "text/plain": [
       "array([376, 314, 374, 407, 377, 417, 433, 360, 344, 354, 350, 364, 339,\n",
       "       331, 346, 371, 344, 394, 412, 433, 379, 390, 313, 370, 367, 405,\n",
       "       377, 347, 350, 349, 369, 373, 431, 340, 399, 425, 294, 410, 377,\n",
       "       343, 388, 324, 356, 340, 329, 308, 403, 348, 360, 372])"
      ]
     },
     "execution_count": 47,
     "metadata": {},
     "output_type": "execute_result"
    }
   ],
   "source": [
    "#每位學生的總分\n",
    "total=scores[:,0]+scores[:,1]+scores[:,2]+scores[:,3]+scores[:,4]\n",
    "total"
   ]
  },
  {
   "cell_type": "code",
   "execution_count": 48,
   "metadata": {},
   "outputs": [
    {
     "data": {
      "text/plain": [
       "array([376, 314, 374, 407, 377, 417, 433, 360, 344, 354, 350, 364, 339,\n",
       "       331, 346, 371, 344, 394, 412, 433, 379, 390, 313, 370, 367, 405,\n",
       "       377, 347, 350, 349, 369, 373, 431, 340, 399, 425, 294, 410, 377,\n",
       "       343, 388, 324, 356, 340, 329, 308, 403, 348, 360, 372])"
      ]
     },
     "execution_count": 48,
     "metadata": {},
     "output_type": "execute_result"
    }
   ],
   "source": [
    "#使用統計的方法\n",
    "#每個學生的總分\n",
    "np.sum(scores,axis=1)"
   ]
  },
  {
   "cell_type": "code",
   "execution_count": 49,
   "metadata": {},
   "outputs": [
    {
     "data": {
      "text/plain": [
       "array([72., 62., 77., 79., 73., 93., 95., 73., 63., 65., 68., 82., 67.,\n",
       "       68., 67., 72., 59., 80., 81., 86., 72., 75., 63., 84., 84., 78.,\n",
       "       81., 73., 62., 65., 73., 71., 92., 63., 84., 81., 52., 88., 69.,\n",
       "       69., 71., 52., 70., 70., 73., 56., 90., 69., 73., 77.])"
      ]
     },
     "execution_count": 49,
     "metadata": {},
     "output_type": "execute_result"
    }
   ],
   "source": [
    "#每個學生的平均\n",
    "np.median(scores,axis=1)"
   ]
  }
 ],
 "metadata": {
  "kernelspec": {
   "display_name": "Python 3",
   "language": "python",
   "name": "python3"
  },
  "language_info": {
   "codemirror_mode": {
    "name": "ipython",
    "version": 3
   },
   "file_extension": ".py",
   "mimetype": "text/x-python",
   "name": "python",
   "nbconvert_exporter": "python",
   "pygments_lexer": "ipython3",
   "version": "3.11.9"
  }
 },
 "nbformat": 4,
 "nbformat_minor": 2
}
