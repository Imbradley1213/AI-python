{
 "cells": [
  {
   "cell_type": "code",
   "execution_count": 1,
   "metadata": {},
   "outputs": [
    {
     "name": "stdout",
     "output_type": "stream",
     "text": [
      "學生分數等級為丙\n"
     ]
    }
   ],
   "source": [
    "# 90(含)~100分為「優」\n",
    "# 80(含)~89分為「甲」\n",
    "# 70(含)~79分為「乙」\n",
    "# 60(含)~69分為「丙」\n",
    "# 0(含)~59分為「丁」\n",
    "\n",
    "score = int(input('請輸入學生分數:'))\n",
    "if score >= 90:\n",
    "    grade = '優'\n",
    "elif score >= 80:\n",
    "    grade = '甲'\n",
    "elif score >= 70:\n",
    "    grade = '乙'\n",
    "elif score >= 60:\n",
    "    grade = '丙'\n",
    "else:\n",
    "    grade = '丁'\n",
    "\n",
    "print(f\"學生分數等級為{grade}\")"
   ]
  },
  {
   "cell_type": "code",
   "execution_count": 2,
   "metadata": {},
   "outputs": [
    {
     "name": "stdout",
     "output_type": "stream",
     "text": [
      "實付金額是:42500\n"
     ]
    }
   ],
   "source": [
    "#輸入顧客購買金額，若金額在\n",
    "#100000元打8折. \n",
    "#50000打85折. \n",
    "#30000打9折. \n",
    "#10000打95折.\n",
    "\n",
    "import math\n",
    "\n",
    "money = int(input('請輸入購買金額:'))\n",
    "if money < 10000:\n",
    "    pay_money = money\n",
    "elif money < 30000:\n",
    "    pay_money = money * 0.95\n",
    "elif money < 50000:\n",
    "    pay_money = money * 0.9\n",
    "elif money < 100000:\n",
    "    pay_money = money * 0.85\n",
    "else:\n",
    "    pay_money = money * 0.8\n",
    "\n",
    "print(f\"實付金額是:{math.ceil(pay_money)}\")"
   ]
  },
  {
   "cell_type": "code",
   "execution_count": null,
   "metadata": {},
   "outputs": [],
   "source": [
    "age = 25\n",
    "\n",
    "if not age < 18:\n",
    "    print('可以考駕照')\n",
    "else:\n",
    "    print('不可以考駕照')\n",
    "    "
   ]
  },
  {
   "cell_type": "code",
   "execution_count": 37,
   "metadata": {},
   "outputs": [
    {
     "name": "stdout",
     "output_type": "stream",
     "text": [
      "AAA你好:\n",
      "你的BMI值為:23.03\n",
      "體重:正常\n",
      "應用程式結束\n"
     ]
    }
   ],
   "source": [
    "name=str(input('請輸入姓名:'))\n",
    "try:\n",
    "    h=float(input('請輸入身高cm:'))\n",
    "    w=float(input('請輸入體重kg:'))\n",
    "except Exception:\n",
    "    print('格式錯誤')\n",
    "else:\n",
    "    BMI=round(w/((h*0.01)**2),ndigits=2)\n",
    "    print(f'{name}你好:')\n",
    "    print(f'你的BMI值為:{BMI}')\n",
    "    if BMI<18.5:\n",
    "        print('體重:過輕')\n",
    "    elif BMI<24:\n",
    "        print('體重:正常')\n",
    "    elif BMI<27:\n",
    "        print('體重:過重')\n",
    "    elif BMI<30:\n",
    "        print('體重:輕度肥胖')\n",
    "    elif BMI<35:\n",
    "        print('體重:中度肥胖')\n",
    "    else:\n",
    "        print('體重:重度肥胖')\n",
    "print('應用程式結束')"
   ]
  }
 ],
 "metadata": {
  "kernelspec": {
   "display_name": "Python 3",
   "language": "python",
   "name": "python3"
  },
  "language_info": {
   "codemirror_mode": {
    "name": "ipython",
    "version": 3
   },
   "file_extension": ".py",
   "mimetype": "text/x-python",
   "name": "python",
   "nbconvert_exporter": "python",
   "pygments_lexer": "ipython3",
   "version": "3.11.9"
  }
 },
 "nbformat": 4,
 "nbformat_minor": 2
}
