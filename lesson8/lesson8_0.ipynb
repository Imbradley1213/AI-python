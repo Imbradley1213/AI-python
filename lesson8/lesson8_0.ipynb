{
 "cells": [
  {
   "cell_type": "code",
   "execution_count": 11,
   "metadata": {},
   "outputs": [
    {
     "name": "stdout",
     "output_type": "stream",
     "text": [
      "www你好:\n",
      "你的BMI值為:21.6\n",
      "你的體重為:正常\n",
      "應用程式結束\n"
     ]
    }
   ],
   "source": [
    "def status(BMI:float)->str:\n",
    "        '''\n",
    "        #param BMI:這是要傳出的值\n",
    "        #return:傳出BMI的值\n",
    "        '''\n",
    "        if BMI<18.5:\n",
    "            return('過輕')\n",
    "        elif BMI<24:\n",
    "            return('正常')\n",
    "        elif BMI<27:\n",
    "            return('過重')\n",
    "        elif BMI<30:\n",
    "            return('輕度肥胖')\n",
    "        elif BMI<35:\n",
    "            return('中度肥胖')\n",
    "        else:\n",
    "            return('重度肥胖') \n",
    "while True: \n",
    "    name=str(input('請輸入姓名:'))\n",
    "    try:\n",
    "        h=float(input('請輸入身高cm:'))\n",
    "        if h<=0:\n",
    "            raise Exception\n",
    "        w=float(input('請輸入體重kg:'))\n",
    "        if w<=0:\n",
    "            raise Exception\n",
    "    except Exception:\n",
    "        print('格式錯誤')\n",
    "        continue\n",
    "    else:\n",
    "        BMI=round(w/((h*0.01)**2),ndigits=2)\n",
    "        print(f'{name}你好:')\n",
    "        print(f'你的BMI值為:{BMI}')\n",
    "        print(f'你的體重為:{status(BMI)}')\n",
    "    stuff = input(\"請問還要繼續('q':離開,enter:繼續)嗎?:\")\n",
    "    if stuff=='q':\n",
    "        break\n",
    "print('應用程式結束')"
   ]
  },
  {
   "cell_type": "code",
   "execution_count": 2,
   "metadata": {},
   "outputs": [
    {
     "data": {
      "text/plain": [
       "'xxxxxxxxxxxxx'"
      ]
     },
     "execution_count": 2,
     "metadata": {},
     "output_type": "execute_result"
    }
   ],
   "source": [
    "#單行字串\n",
    "'xxxxxxxxxxxxx'"
   ]
  },
  {
   "cell_type": "code",
   "execution_count": 4,
   "metadata": {},
   "outputs": [
    {
     "data": {
      "text/plain": [
       "'\\nxxxxxxxx\\nxxxxx\\nxx\\n'"
      ]
     },
     "metadata": {},
     "output_type": "display_data"
    },
    {
     "name": "stdout",
     "output_type": "stream",
     "text": [
      "\n",
      "xxxxxxxx\n",
      "xxxxx\n",
      "xx\n",
      "\n"
     ]
    }
   ],
   "source": [
    "#多行字串\n",
    "multi_lines='''\n",
    "xxxxxxxx\n",
    "xxxxx\n",
    "xx\n",
    "'''\n",
    "display(multi_lines)\n",
    "print(multi_lines)"
   ]
  },
  {
   "cell_type": "code",
   "execution_count": null,
   "metadata": {},
   "outputs": [],
   "source": []
  }
 ],
 "metadata": {
  "kernelspec": {
   "display_name": "Python 3",
   "language": "python",
   "name": "python3"
  },
  "language_info": {
   "codemirror_mode": {
    "name": "ipython",
    "version": 3
   },
   "file_extension": ".py",
   "mimetype": "text/x-python",
   "name": "python",
   "nbconvert_exporter": "python",
   "pygments_lexer": "ipython3",
   "version": "3.11.9"
  }
 },
 "nbformat": 4,
 "nbformat_minor": 2
}
