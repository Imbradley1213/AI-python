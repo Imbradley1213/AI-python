{
 "cells": [
  {
   "cell_type": "code",
   "execution_count": 18,
   "metadata": {},
   "outputs": [
    {
     "data": {
      "text/plain": [
       "39"
      ]
     },
     "execution_count": 18,
     "metadata": {},
     "output_type": "execute_result"
    }
   ],
   "source": [
    "import random\n",
    "random.randint(1,100)\n"
   ]
  },
  {
   "cell_type": "code",
   "execution_count": 51,
   "metadata": {},
   "outputs": [
    {
     "name": "stdout",
     "output_type": "stream",
     "text": [
      "請輸入整數:Number must be at maximum 100.\n",
      "請輸入整數:Number must be at minimum 1.\n",
      "請輸入整數:'100A' is not an integer.\n",
      "請輸入整數:100\n"
     ]
    }
   ],
   "source": [
    "import pyinputplus as pyip\n",
    "num=pyip.inputInt('請輸入整數:',min=1,max=100)\n",
    "print(num)"
   ]
  },
  {
   "cell_type": "code",
   "execution_count": 62,
   "metadata": {},
   "outputs": [
    {
     "name": "stdout",
     "output_type": "stream",
     "text": [
      "-------猜數字遊戲-------\n",
      "\n",
      "猜數字範圍1~100再小點\n",
      "已猜了1次\n",
      "猜數字範圍1~50恭喜中獎~是25\n",
      "已猜了2次\n",
      "應用程式結束\n"
     ]
    }
   ],
   "source": [
    "#猜數字遊戲\n",
    "\n",
    "import random\n",
    "min=1\n",
    "max=100\n",
    "count=0\n",
    "target=random.randint(1,100)\n",
    "print('-------猜數字遊戲-------\\n')\n",
    "while True:\n",
    "    count+=1\n",
    "    keyin=pyip.inputInt(f'猜數字範圍{min}~{max}',min=min,max=max)\n",
    "    if keyin==target:\n",
    "        print(f'恭喜中獎~是{keyin}')\n",
    "        print(f'已猜了{count}次')\n",
    "        break\n",
    "    elif keyin>target:\n",
    "        print('再小點')\n",
    "        max=keyin\n",
    "    elif keyin<target:\n",
    "        print('再大點')\n",
    "        min=keyin\n",
    "    print(f'已猜了{count}次')\n",
    "print('應用程式結束')"
   ]
  }
 ],
 "metadata": {
  "kernelspec": {
   "display_name": "Python 3",
   "language": "python",
   "name": "python3"
  },
  "language_info": {
   "codemirror_mode": {
    "name": "ipython",
    "version": 3
   },
   "file_extension": ".py",
   "mimetype": "text/x-python",
   "name": "python",
   "nbconvert_exporter": "python",
   "pygments_lexer": "ipython3",
   "version": "3.11.9"
  }
 },
 "nbformat": 4,
 "nbformat_minor": 2
}
