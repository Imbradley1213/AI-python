{
 "cells": [
  {
   "cell_type": "code",
   "execution_count": 11,
   "metadata": {},
   "outputs": [
    {
     "name": "stdout",
     "output_type": "stream",
     "text": [
      "QQ你好:\n",
      "你的BMI值為:24.69\n",
      "體重:過重\n",
      "應用程式結束\n"
     ]
    }
   ],
   "source": [
    "def get_status_message(BMI:float):\n",
    "    if BMI<18.5:\n",
    "        return('體重:過輕')\n",
    "    elif BMI<24:\n",
    "        return('體重:正常')\n",
    "    elif BMI<27:\n",
    "        return('體重:過重')\n",
    "    elif BMI<30:\n",
    "        return('體重:輕度肥胖')\n",
    "    elif BMI<35:\n",
    "        return('體重:中度肥胖')\n",
    "    else:\n",
    "        return('體重:重度肥胖')\n",
    "while True:\n",
    "    name=str(input('請輸入姓名:'))\n",
    "    try:\n",
    "        h=float(input('請輸入身高cm:'))\n",
    "        if h<=0:\n",
    "            raise Exception\n",
    "        w=float(input('請輸入體重kg:'))\n",
    "        if w<=0:\n",
    "            raise Exception\n",
    "    except Exception:\n",
    "        print('格式錯誤')\n",
    "        continue\n",
    "    else:\n",
    "        BMI=round(w/((h*0.01)**2),ndigits=2)\n",
    "        print(f'{name}你好:')\n",
    "        print(f'你的BMI值為:{BMI}')\n",
    "        print(f'{get_status_message(BMI)}')\n",
    "    stuff = input(\"請問還要繼續('q':離開,enter:繼續)嗎?:\")\n",
    "    if stuff=='q':\n",
    "        break\n",
    "print('應用程式結束')"
   ]
  },
  {
   "cell_type": "code",
   "execution_count": null,
   "metadata": {},
   "outputs": [],
   "source": []
  }
 ],
 "metadata": {
  "kernelspec": {
   "display_name": "Python 3",
   "language": "python",
   "name": "python3"
  },
  "language_info": {
   "codemirror_mode": {
    "name": "ipython",
    "version": 3
   },
   "file_extension": ".py",
   "mimetype": "text/x-python",
   "name": "python",
   "nbconvert_exporter": "python",
   "pygments_lexer": "ipython3",
   "version": "3.11.9"
  }
 },
 "nbformat": 4,
 "nbformat_minor": 2
}
